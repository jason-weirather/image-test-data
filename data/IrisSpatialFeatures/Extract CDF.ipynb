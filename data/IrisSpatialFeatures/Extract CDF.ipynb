{
 "cells": [
  {
   "cell_type": "code",
   "execution_count": 24,
   "metadata": {},
   "outputs": [],
   "source": [
    "from pythologistreader.formats.inform.custom import CellProjectInFormLineArea\n",
    "from pythologistreader.formats.inform.sets import CellProjectInForm"
   ]
  },
  {
   "cell_type": "code",
   "execution_count": 25,
   "metadata": {},
   "outputs": [],
   "source": [
    "cpi = CellProjectInFormLineArea('pythologist-tumor-margin.h5',mode='r')"
   ]
  },
  {
   "cell_type": "code",
   "execution_count": 26,
   "metadata": {},
   "outputs": [],
   "source": [
    "df = cpi.df\n",
    "df['project_name'] = 'IrisSpatialFeatures'\n",
    "df.microns_per_pixel = 0.496\n",
    "df = df.rename_scored_calls({'PD-1 (Opal 540)':'PD1','PD-Ligand-1 (Opal 690)':'PDL1'})"
   ]
  },
  {
   "cell_type": "code",
   "execution_count": 27,
   "metadata": {},
   "outputs": [
    {
     "name": "stdout",
     "output_type": "stream",
     "text": [
      "<class 'pythologist.CellDataFrame'>\n"
     ]
    }
   ],
   "source": [
    "print(type(df))"
   ]
  },
  {
   "cell_type": "code",
   "execution_count": 28,
   "metadata": {},
   "outputs": [],
   "source": [
    "df.to_hdf('pythologist-tumor-margin.cdf.h5','data',mode='w')"
   ]
  },
  {
   "cell_type": "code",
   "execution_count": 29,
   "metadata": {},
   "outputs": [],
   "source": [
    "cpi = CellProjectInForm('pythologist-whole-slide.h5',mode='r')\n",
    "df = cpi.df\n",
    "df.microns_per_pixel = 0.496\n",
    "df['project_name'] = 'IrisSpatialFeatures'\n",
    "df = df.rename_scored_calls({'PD-1 (Opal 540)':'PD1','PD-Ligand-1 (Opal 690)':'PDL1'})"
   ]
  },
  {
   "cell_type": "code",
   "execution_count": 30,
   "metadata": {},
   "outputs": [],
   "source": [
    "df.to_hdf('pythologist-whole-slide.cdf.h5','data',mode='w')"
   ]
  },
  {
   "cell_type": "code",
   "execution_count": 32,
   "metadata": {},
   "outputs": [
    {
     "data": {
      "text/plain": [
       "(10126, 18)"
      ]
     },
     "execution_count": 32,
     "metadata": {},
     "output_type": "execute_result"
    }
   ],
   "source": [
    "df.shape"
   ]
  },
  {
   "cell_type": "code",
   "execution_count": null,
   "metadata": {},
   "outputs": [],
   "source": []
  }
 ],
 "metadata": {
  "kernelspec": {
   "display_name": "Python 3",
   "language": "python",
   "name": "python3"
  },
  "language_info": {
   "codemirror_mode": {
    "name": "ipython",
    "version": 3
   },
   "file_extension": ".py",
   "mimetype": "text/x-python",
   "name": "python",
   "nbconvert_exporter": "python",
   "pygments_lexer": "ipython3",
   "version": "3.7.1"
  }
 },
 "nbformat": 4,
 "nbformat_minor": 2
}
